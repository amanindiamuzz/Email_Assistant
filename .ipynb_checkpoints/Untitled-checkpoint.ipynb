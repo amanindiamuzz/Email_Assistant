{
 "cells": [
  {
   "cell_type": "code",
   "execution_count": 1,
   "metadata": {},
   "outputs": [],
   "source": [
    "import numpy as np\n",
    "import pandas as pd \n",
    "from PIL import Image, ImageDraw, ImageFont\n",
    "import smtplib\n",
    "from email.mime.multipart import MIMEMultipart\n",
    "from email.mime.text import MIMEText\n",
    "from email.mime.base import MIMEBase\n",
    "from email import encoders\n",
    "\n",
    "data=pd.read_csv(\"Microsoft_event_form.csv\")"
   ]
  },
  {
   "cell_type": "code",
   "execution_count": 2,
   "metadata": {},
   "outputs": [],
   "source": [
    "name_list = data[\"name\"].tolist() \n",
    "mail_list = data[\"mail\"].tolist() \n",
    "\n",
    "for name, mail in zip(name_list, mail_list):\n",
    "    im = Image.open('cer.png')\n",
    "    d = ImageDraw.Draw(im)\n",
    "    location = (170, 900)\n",
    "    text_color = (0, 137, 209)\n",
    "    font = ImageFont.truetype(\"arial.ttf\", 120)\n",
    "    d.text(location, name, fill = text_color, font = font)\n",
    "    im.save( name + \".png\")\n",
    "\n",
    "\n",
    "    fromaddr = \"learnatenglishmate@gmail.com\"\n",
    "    toaddr = 'karankv26102002@gmail.com\"\n",
    "\n",
    "    # instance of MIMEMultipart\n",
    "    msg = MIMEMultipart()\n",
    "\n",
    "    # storing the senders email address\n",
    "    msg['From'] = fromaddr\n",
    "\n",
    "    # storing the receivers email address\n",
    "    msg['To'] = toaddr\n",
    "\n",
    "    # storing the subject\n",
    "    msg['Subject'] = \"The certificates left\"\n",
    "\n",
    "    # string to store the body of the mail\n",
    "    body = '''Here is your certificate attach with this mail!\n",
    "     Well, I apolozise for the delay : )'''\n",
    "\n",
    "    # attach the body with the msg instance\n",
    "    msg.attach(MIMEText(body, 'plain'))\n",
    "    \n",
    "    # open the file to be sent\n",
    "    filename = name+\".png\"\n",
    "    attachment = open(filename, \"rb\")\n",
    "\n",
    "    # instance of MIMEBase and named as p\n",
    "    p = MIMEBase('application', 'octet-stream')\n",
    "\n",
    "    # To change the payload into encoded form\n",
    "    p.set_payload((attachment).read())\n",
    "\n",
    "    # encode into base64\n",
    "    encoders.encode_base64(p)\n",
    "\n",
    "    p.add_header('Content-Disposition', \"attachment; filename= %s\" % filename)\n",
    "\n",
    "    # attach the instance 'p' to instance 'msg'\n",
    "    msg.attach(p)\n",
    "\n",
    "    # creates SMTP session\n",
    "    s = smtplib.SMTP('smtp.gmail.com', 587)\n",
    "\n",
    "    # start TLS for security\n",
    "    s.starttls()\n",
    "\n",
    "    # Authentication\n",
    "    s.login(fromaddr, \"H@ppin3s\")\n",
    "\n",
    "    # Converts the Multipart msg into a string\n",
    "    text = msg.as_string()\n",
    "\n",
    "    # sending the mail\n",
    "    s.sendmail(fromaddr, toaddr, text)\n",
    "    "
   ]
  },
  {
   "cell_type": "code",
   "execution_count": null,
   "metadata": {},
   "outputs": [],
   "source": [
    " "
   ]
  }
 ],
 "metadata": {
  "kernelspec": {
   "display_name": "Python 3",
   "language": "python",
   "name": "python3"
  },
  "language_info": {
   "codemirror_mode": {
    "name": "ipython",
    "version": 3
   },
   "file_extension": ".py",
   "mimetype": "text/x-python",
   "name": "python",
   "nbconvert_exporter": "python",
   "pygments_lexer": "ipython3",
   "version": "3.8.5"
  }
 },
 "nbformat": 4,
 "nbformat_minor": 4
}
